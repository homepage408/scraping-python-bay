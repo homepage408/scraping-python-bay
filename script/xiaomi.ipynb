{
 "cells": [
  {
   "cell_type": "code",
   "execution_count": 1,
   "metadata": {},
   "outputs": [],
   "source": [
    "import pandas as pd\n",
    "from pandas import DataFrame\n",
    "from urllib.request import urlopen, Request\n",
    "from bs4 import BeautifulSoup\n"
   ]
  },
  {
   "cell_type": "code",
   "execution_count": 10,
   "metadata": {},
   "outputs": [],
   "source": [
    "url = \"https://www.ebay.com/sch/i.html?_from=R40&_trksid=m570.l1313&_nkw=xiaomi&_sacat=0&LH_TitleDesc=0&_osacat=0&_odkw=xiami\"\n",
    "# req = Request(url, headers={'User-Agent': 'Mozilla/5.0'})\n",
    "html = urlopen(url)\n",
    "data = BeautifulSoup(html, \"html.parser\")"
   ]
  },
  {
   "cell_type": "code",
   "execution_count": 11,
   "metadata": {},
   "outputs": [],
   "source": [
    "div = data.findAll(\"div\",{\"class\":\"s-item__wrapper clearfix\"})"
   ]
  },
  {
   "cell_type": "code",
   "execution_count": 21,
   "metadata": {},
   "outputs": [
    {
     "data": {
      "text/plain": [
       "63"
      ]
     },
     "execution_count": 21,
     "metadata": {},
     "output_type": "execute_result"
    }
   ],
   "source": [
    "len(div)"
   ]
  },
  {
   "cell_type": "code",
   "execution_count": 22,
   "metadata": {},
   "outputs": [],
   "source": [
    "import csv\n",
    "xiaomi = open('DataXiaomi.csv','w+',newline='')\n",
    "writer = csv.writer(xiaomi)"
   ]
  },
  {
   "cell_type": "code",
   "execution_count": 23,
   "metadata": {},
   "outputs": [],
   "source": [
    "for item in div:\n",
    "    kolom = []\n",
    "    judul = item.find(\"h3\",{\"class\":\"s-item__title\"}).get_text()\n",
    "    harga = item.find(\"span\",{\"class\":\"s-item__price\"}).get_text()\n",
    "    try:\n",
    "        kolom.append(judul)\n",
    "        kolom.append(harga)\n",
    "        writer.writerow(kolom)\n",
    "    except:\n",
    "        continue"
   ]
  },
  {
   "cell_type": "code",
   "execution_count": 24,
   "metadata": {},
   "outputs": [
    {
     "data": {
      "text/html": [
       "<div>\n",
       "<style scoped>\n",
       "    .dataframe tbody tr th:only-of-type {\n",
       "        vertical-align: middle;\n",
       "    }\n",
       "\n",
       "    .dataframe tbody tr th {\n",
       "        vertical-align: top;\n",
       "    }\n",
       "\n",
       "    .dataframe thead th {\n",
       "        text-align: right;\n",
       "    }\n",
       "</style>\n",
       "<table border=\"1\" class=\"dataframe\">\n",
       "  <thead>\n",
       "    <tr style=\"text-align: right;\">\n",
       "      <th></th>\n",
       "      <th>Original Xiaomi Redmi Note 4 Pro Prime MTK Helio X20 Deca Core 5.5\" FHD 4100mAh</th>\n",
       "      <th>IDR1,411,617.65 to IDR1,617,500.00</th>\n",
       "    </tr>\n",
       "  </thead>\n",
       "  <tbody>\n",
       "    <tr>\n",
       "      <th>0</th>\n",
       "      <td>Xiaomi Mi 9T 64GB 6GB Ram (FACTORY UNLOCKED) 6...</td>\n",
       "      <td>IDR4,125,735.29</td>\n",
       "    </tr>\n",
       "    <tr>\n",
       "      <th>1</th>\n",
       "      <td>Original Xiaomi Redmi 4X Snapdragon 435 Octa C...</td>\n",
       "      <td>IDR1,338,088.24 to IDR1,411,617.65</td>\n",
       "    </tr>\n",
       "    <tr>\n",
       "      <th>2</th>\n",
       "      <td>Xiaomi Redmi Note 8 Pro 64 GB 6 GB RAM Blue 6....</td>\n",
       "      <td>IDR3,195,588.24</td>\n",
       "    </tr>\n",
       "    <tr>\n",
       "      <th>3</th>\n",
       "      <td>Xiaomi Redmi Note 9 128GB 4GB RAM (FACTORY UNL...</td>\n",
       "      <td>IDR2,911,764.71</td>\n",
       "    </tr>\n",
       "    <tr>\n",
       "      <th>4</th>\n",
       "      <td>Xiaomi Redmi Note 8 Unlocked 64GB 4GB RAM Dual...</td>\n",
       "      <td>IDR2,705,735.29</td>\n",
       "    </tr>\n",
       "    <tr>\n",
       "      <th>...</th>\n",
       "      <td>...</td>\n",
       "      <td>...</td>\n",
       "    </tr>\n",
       "    <tr>\n",
       "      <th>57</th>\n",
       "      <td>Global ROM Xiaomi Redmi K30 Pro 5G Phone 6GB 1...</td>\n",
       "      <td>IDR7,215,629.00 to IDR8,630,959.71</td>\n",
       "    </tr>\n",
       "    <tr>\n",
       "      <th>58</th>\n",
       "      <td>Xiaomi Mi 10 Pro 5G SmartPhone Snapdragon 865 ...</td>\n",
       "      <td>IDR12,132,352.94 to IDR14,338,235.29</td>\n",
       "    </tr>\n",
       "    <tr>\n",
       "      <th>59</th>\n",
       "      <td>Xiaomi Redmi Note 4 (MediaTek) 16GB 32GB 64GB ...</td>\n",
       "      <td>IDR1,308,676.47 to IDR1,455,735.29</td>\n",
       "    </tr>\n",
       "    <tr>\n",
       "      <th>60</th>\n",
       "      <td>6941059630869 Smartfon Xiaomi Redmi Note 8 64G...</td>\n",
       "      <td>IDR4,233,016.06</td>\n",
       "    </tr>\n",
       "    <tr>\n",
       "      <th>61</th>\n",
       "      <td>Free Shipping! Xiaomi Mi Play Smartphone Globa...</td>\n",
       "      <td>IDR2,499,852.94</td>\n",
       "    </tr>\n",
       "  </tbody>\n",
       "</table>\n",
       "<p>62 rows × 2 columns</p>\n",
       "</div>"
      ],
      "text/plain": [
       "   Original Xiaomi Redmi Note 4 Pro Prime MTK Helio X20 Deca Core 5.5\" FHD 4100mAh  \\\n",
       "0   Xiaomi Mi 9T 64GB 6GB Ram (FACTORY UNLOCKED) 6...                                \n",
       "1   Original Xiaomi Redmi 4X Snapdragon 435 Octa C...                                \n",
       "2   Xiaomi Redmi Note 8 Pro 64 GB 6 GB RAM Blue 6....                                \n",
       "3   Xiaomi Redmi Note 9 128GB 4GB RAM (FACTORY UNL...                                \n",
       "4   Xiaomi Redmi Note 8 Unlocked 64GB 4GB RAM Dual...                                \n",
       "..                                                ...                                \n",
       "57  Global ROM Xiaomi Redmi K30 Pro 5G Phone 6GB 1...                                \n",
       "58  Xiaomi Mi 10 Pro 5G SmartPhone Snapdragon 865 ...                                \n",
       "59  Xiaomi Redmi Note 4 (MediaTek) 16GB 32GB 64GB ...                                \n",
       "60  6941059630869 Smartfon Xiaomi Redmi Note 8 64G...                                \n",
       "61  Free Shipping! Xiaomi Mi Play Smartphone Globa...                                \n",
       "\n",
       "      IDR1,411,617.65 to IDR1,617,500.00  \n",
       "0                        IDR4,125,735.29  \n",
       "1     IDR1,338,088.24 to IDR1,411,617.65  \n",
       "2                        IDR3,195,588.24  \n",
       "3                        IDR2,911,764.71  \n",
       "4                        IDR2,705,735.29  \n",
       "..                                   ...  \n",
       "57    IDR7,215,629.00 to IDR8,630,959.71  \n",
       "58  IDR12,132,352.94 to IDR14,338,235.29  \n",
       "59    IDR1,308,676.47 to IDR1,455,735.29  \n",
       "60                       IDR4,233,016.06  \n",
       "61                       IDR2,499,852.94  \n",
       "\n",
       "[62 rows x 2 columns]"
      ]
     },
     "execution_count": 24,
     "metadata": {},
     "output_type": "execute_result"
    }
   ],
   "source": [
    "df = pd.read_csv('DataXiaomi.csv')\n",
    "df"
   ]
  },
  {
   "cell_type": "code",
   "execution_count": null,
   "metadata": {},
   "outputs": [],
   "source": []
  }
 ],
 "metadata": {
  "kernelspec": {
   "display_name": "Python 3",
   "language": "python",
   "name": "python3"
  },
  "language_info": {
   "codemirror_mode": {
    "name": "ipython",
    "version": 3
   },
   "file_extension": ".py",
   "mimetype": "text/x-python",
   "name": "python",
   "nbconvert_exporter": "python",
   "pygments_lexer": "ipython3",
   "version": "3.8.3"
  }
 },
 "nbformat": 4,
 "nbformat_minor": 4
}
